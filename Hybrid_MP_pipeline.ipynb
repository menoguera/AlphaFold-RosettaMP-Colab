{
  "cells": [
    {
      "cell_type": "markdown",
      "id": "87aadef0",
      "metadata": {
        "id": "87aadef0"
      },
      "source": [
        "# Predicción y refinamiento de proteínas transmembrana con AlphaFold2 + RosettaMP\n",
        "Este notebook permite:\n",
        "1. Subir una secuencia FASTA.\n",
        "2. Definir o predecir región transmembrana.\n",
        "3. Predecir estructura con ColabFold (AlphaFold2).\n",
        "4. Generar archivo `.span` para RosettaMP.\n",
        "5. Compilar Rosetta.\n",
        "6. Refinar estructura.\n",
        "7. Visualizar el resultado."
      ]
    },
    {
      "cell_type": "code",
      "execution_count": null,
      "id": "87664944",
      "metadata": {
        "id": "87664944"
      },
      "outputs": [],
      "source": [
        "#@title Instalar dependencias\n",
        "!pip install -q colabfold biopython py3Dmol requests\n"
      ]
    },
    {
      "cell_type": "code",
      "execution_count": null,
      "id": "d82d06af",
      "metadata": {
        "id": "d82d06af"
      },
      "outputs": [],
      "source": [
        "#@title Subir archivo FASTA\n",
        "from google.colab import files\n",
        "uploaded = files.upload()\n",
        "fasta_file = list(uploaded.keys())[0]\n"
      ]
    },
    {
      "cell_type": "code",
      "execution_count": null,
      "id": "b1cc855a",
      "metadata": {
        "id": "b1cc855a"
      },
      "outputs": [],
      "source": [
        "#@title Ingresar región transmembrana (opcional)\n",
        "import ipywidgets as widgets\n",
        "from IPython.display import display\n",
        "\n",
        "tm_input = widgets.Text(\n",
        "    value='',\n",
        "    placeholder='Ej: 45-67',\n",
        "    description='TM región:',\n",
        "    disabled=False\n",
        ")\n",
        "display(tm_input)\n"
      ]
    },
    {
      "cell_type": "code",
      "execution_count": null,
      "id": "fa14f883",
      "metadata": {
        "id": "fa14f883"
      },
      "outputs": [],
      "source": [
        "#@title Predecir región TM si no se ingresó\n",
        "import requests\n",
        "from Bio import SeqIO\n",
        "\n",
        "record = SeqIO.read(fasta_file, \"fasta\")\n",
        "sequence = str(record.seq)\n",
        "\n",
        "if tm_input.value.strip():\n",
        "  tm_range = tm_input.value.strip()\n",
        "else:\n",
        "  print(\"Usando predicción con DeepTMHMM...\")\n",
        "  res = requests.post(\"https://deeptmhmmapi.biolib.com/predict\", json={\"sequence\": sequence})\n",
        "  tm_range = res.json().get(\"regions\", [\"40-60\"])[0]  # Fallback\n",
        "\n",
        "print(\"Región TM usada:\", tm_range)\n"
      ]
    },
    {
      "cell_type": "code",
      "execution_count": null,
      "id": "82701ddb",
      "metadata": {
        "id": "82701ddb"
      },
      "outputs": [],
      "source": [
        "#@title Ejecutar ColabFold\n",
        "from colabfold.batch import run\n",
        "from pathlib import Path\n",
        "import os\n",
        "\n",
        "out_dir = Path(\"prediction\")\n",
        "out_dir.mkdir(exist_ok=True)\n",
        "res = run([(\"query\", sequence)], result_dir=str(out_dir), use_templates=False, num_models=1)\n",
        "print(\"Modelo guardado:\", res[\"query\"][\"model\"])\n",
        "\n",
        "ranked_model_path = out_dir / \"query_ranked_0.pdb\"\n"
      ]
    },
    {
      "cell_type": "code",
      "execution_count": null,
      "id": "4c496bc7",
      "metadata": {
        "id": "4c496bc7"
      },
      "outputs": [],
      "source": [
        "#@title Generar archivo .span para RosettaMP\n",
        "start, end = map(int, tm_range.split('-'))\n",
        "\n",
        "with open(\"protein.span\", \"w\") as f:\n",
        "    f.write(\"TM region prediction\\n1 1\\n{} {}\".format(start, end))\n",
        "print(\"Archivo span creado.\")\n"
      ]
    },
    {
      "cell_type": "code",
      "execution_count": null,
      "id": "cb449b56",
      "metadata": {
        "id": "cb449b56"
      },
      "outputs": [],
      "source": [
        "#@title Descargar y compilar RosettaMP (tarda ~30-45min)\n",
        "!wget -q https://www.rosettacommons.org/downloads/academic/rosetta.latest.tar.bz2 -O rosetta.tar.bz2\n",
        "!tar -xjf rosetta.tar.bz2\n",
        "!cd rosetta*/main && ./scons.py -j2 mode=release bin/mp_relax\n"
      ]
    },
    {
      "cell_type": "code",
      "execution_count": null,
      "id": "c85eaae9",
      "metadata": {
        "id": "c85eaae9"
      },
      "outputs": [],
      "source": [
        "#@title Ejecutar refinamiento con RosettaMP\n",
        "import glob\n",
        "import shutil\n",
        "\n",
        "ranked_pdb = str(ranked_model_path)\n",
        "shutil.copy(ranked_pdb, \"ranked_0.pdb\")\n",
        "\n",
        "!rosetta*/main/source/bin/mp_relax.default.linuxgccrelease \\\n",
        "  -in:file:s ranked_0.pdb \\\n",
        "  -mp:setup:spanfiles protein.span \\\n",
        "  -relax:fast \\\n",
        "  -nstruct 1 \\\n",
        "  -out:path:all output/\n"
      ]
    },
    {
      "cell_type": "code",
      "execution_count": null,
      "id": "50d038ef",
      "metadata": {
        "id": "50d038ef"
      },
      "outputs": [],
      "source": [
        "#@title Visualizar modelo original vs refinado\n",
        "import py3Dmol\n",
        "\n",
        "view = py3Dmol.view(width=600, height=400)\n",
        "with open(\"ranked_0.pdb\") as f: view.addModel(f.read(), \"pdb\")\n",
        "with open(\"output/ranked_0_0001.pdb\") as f: view.addModel(f.read(), \"pdb\")\n",
        "view.setStyle({'model':0}, {'cartoon': {'color': 'blue'}})\n",
        "view.setStyle({'model':1}, {'cartoon': {'color': 'red'}})\n",
        "view.zoomTo()\n",
        "view\n"
      ]
    }
  ],
  "metadata": {
    "colab": {
      "provenance": [],
      "gpuType": "T4"
    },
    "language_info": {
      "name": "python"
    },
    "accelerator": "GPU",
    "kernelspec": {
      "name": "python3",
      "display_name": "Python 3"
    }
  },
  "nbformat": 4,
  "nbformat_minor": 5
}